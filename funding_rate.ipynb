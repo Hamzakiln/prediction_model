{
 "cells": [
  {
   "cell_type": "code",
   "execution_count": null,
   "id": "98aad1e3",
   "metadata": {},
   "outputs": [
    {
     "name": "stderr",
     "output_type": "stream",
     "text": [
      "/Users/hamzamuhammad/Library/Python/3.9/lib/python/site-packages/urllib3/__init__.py:34: NotOpenSSLWarning: urllib3 v2.0 only supports OpenSSL 1.1.1+, currently the 'ssl' module is compiled with 'LibreSSL 2.8.3'. See: https://github.com/urllib3/urllib3/issues/3020\n",
      "  warnings.warn(\n"
     ]
    },
    {
     "name": "stdout",
     "output_type": "stream",
     "text": [
      "             daily_funding_rate\n",
      "fundingTime                    \n",
      "2020-09-13               0.0001\n",
      "2020-09-14               0.0003\n",
      "2020-09-15               0.0003\n",
      "2020-09-16               0.0003\n",
      "2020-09-17               0.0003\n"
     ]
    }
   ],
   "source": [
    "import requests\n",
    "import pandas as pd\n",
    "from datetime import datetime, timedelta\n",
    "import time\n",
    "\n",
    "def get_funding_rates(symbol=\"SOLUSDT\", interval_hours=8, days=5*365):\n",
    "    endpoint = \"https://fapi.binance.com/fapi/v1/fundingRate\"\n",
    "    start_time = datetime.utcnow() - timedelta(days=days)\n",
    "    start_ts = int(start_time.timestamp() * 1000)\n",
    "\n",
    "    all_data = []\n",
    "    while start_ts < int(datetime.utcnow().timestamp() * 1000):\n",
    "        params = {\n",
    "            \"symbol\": symbol,\n",
    "            \"startTime\": start_ts,\n",
    "            \"limit\": 1000\n",
    "        }\n",
    "        response = requests.get(endpoint, params=params)\n",
    "        data = response.json()\n",
    "\n",
    "        if not data:\n",
    "            break\n",
    "\n",
    "        all_data.extend(data)\n",
    "\n",
    "        # Update start time for next batch\n",
    "        start_ts = data[-1]['fundingTime'] + 1\n",
    "\n",
    "        # Respect API rate limit\n",
    "        time.sleep(0.5)\n",
    "\n",
    "    # Convert to DataFrame\n",
    "    df = pd.DataFrame(all_data)\n",
    "    df['fundingTime'] = pd.to_datetime(df['fundingTime'], unit='ms')\n",
    "    df['fundingRate'] = pd.to_numeric(df['fundingRate'], errors='coerce')\n",
    "\n",
    "    # Resample to daily by summing 3 funding rates per day\n",
    "    df.set_index('fundingTime', inplace=True)\n",
    "    df_daily = df['fundingRate'].resample('1D').sum().dropna()\n",
    "    df_daily.name = 'daily_funding_rate'\n",
    "\n",
    "    return df_daily.to_frame()\n",
    "\n",
    "df_funding_sol = get_funding_rates()\n",
    "print(df_funding_sol.head())\n",
    "\n"
   ]
  },
  {
   "cell_type": "code",
   "execution_count": 2,
   "id": "50d57cb5",
   "metadata": {},
   "outputs": [],
   "source": [
    "df_funding_sol.to_excel(\"sol_funding.xlsx\")"
   ]
  }
 ],
 "metadata": {
  "kernelspec": {
   "display_name": "Python 3",
   "language": "python",
   "name": "python3"
  },
  "language_info": {
   "codemirror_mode": {
    "name": "ipython",
    "version": 3
   },
   "file_extension": ".py",
   "mimetype": "text/x-python",
   "name": "python",
   "nbconvert_exporter": "python",
   "pygments_lexer": "ipython3",
   "version": "3.9.6"
  }
 },
 "nbformat": 4,
 "nbformat_minor": 5
}
