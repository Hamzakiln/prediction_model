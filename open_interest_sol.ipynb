{
 "cells": [
  {
   "cell_type": "code",
   "execution_count": 1,
   "id": "98aad1e3",
   "metadata": {},
   "outputs": [
    {
     "name": "stderr",
     "output_type": "stream",
     "text": [
      "/Users/hamzamuhammad/Library/Python/3.9/lib/python/site-packages/urllib3/__init__.py:34: NotOpenSSLWarning: urllib3 v2.0 only supports OpenSSL 1.1.1+, currently the 'ssl' module is compiled with 'LibreSSL 2.8.3'. See: https://github.com/urllib3/urllib3/issues/3020\n",
      "  warnings.warn(\n"
     ]
    },
    {
     "ename": "KeyError",
     "evalue": "0",
     "output_type": "error",
     "traceback": [
      "\u001b[0;31m---------------------------------------------------------------------------\u001b[0m",
      "\u001b[0;31mKeyError\u001b[0m                                  Traceback (most recent call last)",
      "Cell \u001b[0;32mIn[1], line 46\u001b[0m\n\u001b[1;32m     43\u001b[0m     \u001b[38;5;28;01mreturn\u001b[39;00m df_daily\u001b[38;5;241m.\u001b[39mto_frame()\n\u001b[1;32m     45\u001b[0m \u001b[38;5;66;03m# Example usage\u001b[39;00m\n\u001b[0;32m---> 46\u001b[0m df_oi_sol \u001b[38;5;241m=\u001b[39m \u001b[43mget_open_interest\u001b[49m\u001b[43m(\u001b[49m\u001b[43m)\u001b[49m\n\u001b[1;32m     47\u001b[0m \u001b[38;5;28mprint\u001b[39m(df_oi_sol\u001b[38;5;241m.\u001b[39mhead())\n",
      "Cell \u001b[0;32mIn[1], line 22\u001b[0m, in \u001b[0;36mget_open_interest\u001b[0;34m(symbol, interval_minutes, days)\u001b[0m\n\u001b[1;32m     19\u001b[0m response \u001b[38;5;241m=\u001b[39m requests\u001b[38;5;241m.\u001b[39mget(endpoint, params\u001b[38;5;241m=\u001b[39mparams)\n\u001b[1;32m     20\u001b[0m data \u001b[38;5;241m=\u001b[39m response\u001b[38;5;241m.\u001b[39mjson()\n\u001b[0;32m---> 22\u001b[0m \u001b[38;5;28;01mif\u001b[39;00m \u001b[38;5;129;01mnot\u001b[39;00m data \u001b[38;5;129;01mor\u001b[39;00m \u001b[38;5;124m\"\u001b[39m\u001b[38;5;124mopenInterest\u001b[39m\u001b[38;5;124m\"\u001b[39m \u001b[38;5;129;01mnot\u001b[39;00m \u001b[38;5;129;01min\u001b[39;00m \u001b[43mdata\u001b[49m\u001b[43m[\u001b[49m\u001b[38;5;241;43m0\u001b[39;49m\u001b[43m]\u001b[49m:\n\u001b[1;32m     23\u001b[0m     \u001b[38;5;28;01mbreak\u001b[39;00m\n\u001b[1;32m     25\u001b[0m all_data\u001b[38;5;241m.\u001b[39mextend(data)\n",
      "\u001b[0;31mKeyError\u001b[0m: 0"
     ]
    }
   ],
   "source": [
    "import requests\n",
    "import pandas as pd\n",
    "from datetime import datetime, timedelta\n",
    "import time\n",
    "\n",
    "def get_open_interest(symbol=\"SOLUSDT\", interval_minutes=60, days=5*365):\n",
    "    endpoint = \"https://fapi.binance.com/futures/data/openInterestHist\"\n",
    "    start_time = datetime.utcnow() - timedelta(days=days)\n",
    "    start_ts = int(start_time.timestamp() * 1000)\n",
    "\n",
    "    all_data = []\n",
    "    while start_ts < int(datetime.utcnow().timestamp() * 1000):\n",
    "        params = {\n",
    "            \"symbol\": symbol,\n",
    "            \"period\": f\"{interval_minutes}m\",  # 1h interval\n",
    "            \"limit\": 500,\n",
    "            \"startTime\": start_ts,\n",
    "        }\n",
    "        response = requests.get(endpoint, params=params)\n",
    "        data = response.json()\n",
    "\n",
    "        if not data or \"openInterest\" not in data[0]:\n",
    "            break\n",
    "\n",
    "        all_data.extend(data)\n",
    "\n",
    "        # Update start time for next batch\n",
    "        last_time = int(data[-1]['timestamp'])\n",
    "        start_ts = last_time + 1\n",
    "\n",
    "        time.sleep(0.5)  # rate limiting\n",
    "\n",
    "    # Build DataFrame\n",
    "    df = pd.DataFrame(all_data)\n",
    "    df['timestamp'] = pd.to_datetime(df['timestamp'], unit='ms')\n",
    "    df['openInterest'] = pd.to_numeric(df['openInterest'], errors='coerce')\n",
    "\n",
    "    # Resample to daily by taking the daily average or close\n",
    "    df.set_index('timestamp', inplace=True)\n",
    "    df_daily = df['openInterest'].resample('1D').last().dropna()\n",
    "    df_daily.name = 'daily_open_interest'\n",
    "\n",
    "    return df_daily.to_frame()\n",
    "\n",
    "# Example usage\n",
    "df_oi_sol = get_open_interest()\n",
    "print(df_oi_sol.head())"
   ]
  }
 ],
 "metadata": {
  "kernelspec": {
   "display_name": "Python 3",
   "language": "python",
   "name": "python3"
  },
  "language_info": {
   "codemirror_mode": {
    "name": "ipython",
    "version": 3
   },
   "file_extension": ".py",
   "mimetype": "text/x-python",
   "name": "python",
   "nbconvert_exporter": "python",
   "pygments_lexer": "ipython3",
   "version": "3.9.6"
  }
 },
 "nbformat": 4,
 "nbformat_minor": 5
}
