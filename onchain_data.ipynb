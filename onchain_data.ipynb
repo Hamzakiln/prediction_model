{
 "cells": [
  {
   "cell_type": "code",
   "execution_count": 9,
   "id": "e360e612",
   "metadata": {},
   "outputs": [
    {
     "data": {
      "text/plain": [
       "True"
      ]
     },
     "execution_count": 9,
     "metadata": {},
     "output_type": "execute_result"
    }
   ],
   "source": [
    "import requests\n",
    "import pandas as pd\n",
    "from datetime import datetime\n",
    "import time\n",
    "\n",
    "def get_TVL():\n",
    "    try:\n",
    "        url = \"https://api.llama.fi/v2/historicalChainTvl/solana\"\n",
    "        response = requests.get(url)\n",
    "        response.raise_for_status()\n",
    "        data = response.json()\n",
    "    except:\n",
    "        return False\n",
    "\n",
    "    # Conversion en DataFrame\n",
    "    df_tvl = pd.DataFrame(data)\n",
    "\n",
    "    # Transformation du timestamp en date\n",
    "    df_tvl['date'] = pd.to_datetime(df_tvl['date'], unit='s')\n",
    "    df_tvl.set_index('date', inplace=True)\n",
    "\n",
    "    # On garde uniquement la colonne TVL en USD\n",
    "    df_tvl = df_tvl[['tvl']].rename(columns={'tvl': 'TVL_USD'})\n",
    "\n",
    "    # Optionnel : filtrer les 5 dernières années\n",
    "    df_tvl = df_tvl[df_tvl.index >= (pd.Timestamp.today() - pd.DateOffset(years=6))]\n",
    "    df_tvl.to_csv(\"SOL_tvl.csv\")\n",
    "    return True\n",
    "\n",
    "\n",
    "def get_funding_rates(symbol=\"SOLUSDT\", interval_hours=8, days=5*365):\n",
    "    endpoint = \"https://fapi.binance.com/fapi/v1/fundingRate\"\n",
    "    start_time = datetime.utcnow() - timedelta(days=days)\n",
    "    start_ts = int(start_time.timestamp() * 1000)\n",
    "\n",
    "    all_data = []\n",
    "    while start_ts < int(datetime.utcnow().timestamp() * 1000):\n",
    "        params = {\n",
    "            \"symbol\": symbol,\n",
    "            \"startTime\": start_ts,\n",
    "            \"limit\": 1000\n",
    "        }\n",
    "        response = requests.get(endpoint, params=params)\n",
    "        data = response.json()\n",
    "\n",
    "        if not data:\n",
    "            break\n",
    "\n",
    "        all_data.extend(data)\n",
    "\n",
    "        # Update start time for next batch\n",
    "        start_ts = data[-1]['fundingTime'] + 1\n",
    "\n",
    "        # Respect API rate limit\n",
    "        time.sleep(0.5)\n",
    "\n",
    "    # Convert to DataFrame\n",
    "    df = pd.DataFrame(all_data)\n",
    "    df['fundingTime'] = pd.to_datetime(df['fundingTime'], unit='ms')\n",
    "    df['fundingRate'] = pd.to_numeric(df['fundingRate'], errors='coerce')\n",
    "\n",
    "    # Resample to daily by summing 3 funding rates per day\n",
    "    df.set_index('fundingTime', inplace=True)\n",
    "    df_daily = df['fundingRate'].resample('1D').sum().dropna()\n",
    "    df_daily.name = 'daily_funding_rate'\n",
    "    df_daily = df_daily.to_frame()\n",
    "    df_daily.to_excel(\"sol_funding.xlsx\")\n",
    "\n",
    "    return True\n",
    "\n",
    "\n",
    "get_TVL()\n",
    "get_funding_rates()\n"
   ]
  }
 ],
 "metadata": {
  "kernelspec": {
   "display_name": "Python 3",
   "language": "python",
   "name": "python3"
  },
  "language_info": {
   "codemirror_mode": {
    "name": "ipython",
    "version": 3
   },
   "file_extension": ".py",
   "mimetype": "text/x-python",
   "name": "python",
   "nbconvert_exporter": "python",
   "pygments_lexer": "ipython3",
   "version": "3.9.6"
  }
 },
 "nbformat": 4,
 "nbformat_minor": 5
}
