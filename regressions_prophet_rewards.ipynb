{
 "cells": [
  {
   "cell_type": "code",
   "execution_count": 147,
   "id": "98aad1e3",
   "metadata": {},
   "outputs": [],
   "source": [
    "import pandas as pd\n",
    "import numpy as np\n",
    "import pickle\n",
    "from datetime import datetime\n",
    "from prophet import Prophet\n",
    "from prophet.utilities import regressor_coefficients\n",
    "from matplotlib import pyplot as plt\n",
    "from sklearn.metrics import mean_squared_error\n",
    "from sklearn.metrics import r2_score\n",
    "from statsmodels.tsa.arima.model import ARIMA\n",
    "from sklearn.metrics import mean_squared_error\n",
    "from arch import arch_model"
   ]
  },
  {
   "cell_type": "code",
   "execution_count": 148,
   "id": "04193c59",
   "metadata": {},
   "outputs": [
    {
     "data": {
      "application/vnd.microsoft.datawrangler.viewer.v0+json": {
       "columns": [
        {
         "name": "ds",
         "rawType": "datetime64[ns]",
         "type": "datetime"
        },
        {
         "name": "y",
         "rawType": "float64",
         "type": "float"
        }
       ],
       "conversionMethod": "pd.DataFrame",
       "ref": "e0d6d358-92cd-497e-8461-4f0d12769aaf",
       "rows": [
        [
         "2025-05-22 11:28:30",
         "0.6729126068948355"
        ],
        [
         "2025-05-22 11:21:58",
         "0.07237711463699967"
        ],
        [
         "2025-05-22 11:15:23",
         "-0.24796244234681736"
        ],
        [
         "2025-05-22 11:08:48",
         "0.04052236795747109"
        ],
        [
         "2025-05-22 11:02:13",
         "-0.0038157859222525663"
        ],
        [
         "2025-05-22 10:55:39",
         "-0.2659234415532602"
        ],
        [
         "2025-05-22 10:49:03",
         "0.07994126853773614"
        ],
        [
         "2025-05-22 10:42:30",
         "0.18205336575552725"
        ],
        [
         "2025-05-22 10:35:56",
         "-0.24746187575400108"
        ],
        [
         "2025-05-22 10:29:21",
         "0.16314490378581528"
        ],
        [
         "2025-05-22 10:22:47",
         "0.0030079889648454198"
        ],
        [
         "2025-05-22 10:16:15",
         "0.01840465406876343"
        ],
        [
         "2025-05-22 10:09:41",
         "-0.1281444662614359"
        ],
        [
         "2025-05-22 10:03:04",
         "0.05351200821285218"
        ],
        [
         "2025-05-22 09:56:28",
         "-0.07232754631079454"
        ],
        [
         "2025-05-22 09:49:52",
         "-0.06758959329733004"
        ],
        [
         "2025-05-22 09:43:12",
         "-0.016666808214293994"
        ],
        [
         "2025-05-22 09:36:37",
         "0.03561381423136173"
        ],
        [
         "2025-05-22 09:30:03",
         "0.04567095872178889"
        ],
        [
         "2025-05-22 09:23:27",
         "0.04700221228563825"
        ],
        [
         "2025-05-22 09:16:52",
         "-0.1048827801181855"
        ],
        [
         "2025-05-22 09:10:19",
         "-0.046845331502223975"
        ],
        [
         "2025-05-22 09:03:44",
         "-0.028612828151981854"
        ],
        [
         "2025-05-22 08:57:09",
         "0.030875760071051892"
        ],
        [
         "2025-05-22 08:50:37",
         "0.10957100696631498"
        ],
        [
         "2025-05-22 08:44:03",
         "0.026581082797598053"
        ],
        [
         "2025-05-22 08:37:26",
         "-0.12663110065096692"
        ],
        [
         "2025-05-22 08:30:53",
         "0.04310760355328673"
        ],
        [
         "2025-05-22 08:24:16",
         "-0.07694690649122747"
        ],
        [
         "2025-05-22 08:17:42",
         "0.06069259800712817"
        ],
        [
         "2025-05-22 08:11:09",
         "-0.1787092533332574"
        ],
        [
         "2025-05-22 08:04:36",
         "0.1438163039174734"
        ],
        [
         "2025-05-22 07:58:01",
         "0.0876872015959151"
        ],
        [
         "2025-05-22 07:51:31",
         "-0.08904291523859946"
        ],
        [
         "2025-05-22 07:44:55",
         "0.1900778750433872"
        ],
        [
         "2025-05-22 07:38:21",
         "-0.21278700277090334"
        ],
        [
         "2025-05-22 07:31:46",
         "-0.1206543519827188"
        ],
        [
         "2025-05-22 07:25:10",
         "0.2953938698766893"
        ],
        [
         "2025-05-22 07:18:33",
         "-0.30408002004088985"
        ],
        [
         "2025-05-22 07:11:58",
         "-0.03103895443497603"
        ],
        [
         "2025-05-22 07:05:24",
         "0.10249454754106314"
        ],
        [
         "2025-05-22 06:58:47",
         "-0.026326268421580826"
        ],
        [
         "2025-05-22 06:52:13",
         "0.025696664673363012"
        ],
        [
         "2025-05-22 06:45:35",
         "0.27409635825951784"
        ],
        [
         "2025-05-22 06:39:00",
         "-0.11188717283756469"
        ],
        [
         "2025-05-22 06:32:21",
         "-0.01886262328154261"
        ],
        [
         "2025-05-22 06:25:48",
         "0.06564728235325044"
        ],
        [
         "2025-05-22 06:19:13",
         "0.15305012855137107"
        ],
        [
         "2025-05-22 06:12:41",
         "-0.18867747489074366"
        ],
        [
         "2025-05-22 06:06:06",
         "0.23625968581766377"
        ]
       ],
       "shape": {
        "columns": 1,
        "rows": 82639
       }
      },
      "text/html": [
       "<div>\n",
       "<style scoped>\n",
       "    .dataframe tbody tr th:only-of-type {\n",
       "        vertical-align: middle;\n",
       "    }\n",
       "\n",
       "    .dataframe tbody tr th {\n",
       "        vertical-align: top;\n",
       "    }\n",
       "\n",
       "    .dataframe thead th {\n",
       "        text-align: right;\n",
       "    }\n",
       "</style>\n",
       "<table border=\"1\" class=\"dataframe\">\n",
       "  <thead>\n",
       "    <tr style=\"text-align: right;\">\n",
       "      <th></th>\n",
       "      <th>y</th>\n",
       "    </tr>\n",
       "    <tr>\n",
       "      <th>ds</th>\n",
       "      <th></th>\n",
       "    </tr>\n",
       "  </thead>\n",
       "  <tbody>\n",
       "    <tr>\n",
       "      <th>2025-05-22 11:28:30</th>\n",
       "      <td>0.672913</td>\n",
       "    </tr>\n",
       "    <tr>\n",
       "      <th>2025-05-22 11:21:58</th>\n",
       "      <td>0.072377</td>\n",
       "    </tr>\n",
       "    <tr>\n",
       "      <th>2025-05-22 11:15:23</th>\n",
       "      <td>-0.247962</td>\n",
       "    </tr>\n",
       "    <tr>\n",
       "      <th>2025-05-22 11:08:48</th>\n",
       "      <td>0.040522</td>\n",
       "    </tr>\n",
       "    <tr>\n",
       "      <th>2025-05-22 11:02:13</th>\n",
       "      <td>-0.003816</td>\n",
       "    </tr>\n",
       "    <tr>\n",
       "      <th>...</th>\n",
       "      <td>...</td>\n",
       "    </tr>\n",
       "    <tr>\n",
       "      <th>2024-03-25 12:40:08</th>\n",
       "      <td>0.068994</td>\n",
       "    </tr>\n",
       "    <tr>\n",
       "      <th>2024-03-25 12:33:01</th>\n",
       "      <td>-0.135073</td>\n",
       "    </tr>\n",
       "    <tr>\n",
       "      <th>2024-03-25 12:25:58</th>\n",
       "      <td>-0.001210</td>\n",
       "    </tr>\n",
       "    <tr>\n",
       "      <th>2024-03-25 12:18:56</th>\n",
       "      <td>0.193887</td>\n",
       "    </tr>\n",
       "    <tr>\n",
       "      <th>2024-03-25 12:11:46</th>\n",
       "      <td>-0.176740</td>\n",
       "    </tr>\n",
       "  </tbody>\n",
       "</table>\n",
       "<p>82639 rows × 1 columns</p>\n",
       "</div>"
      ],
      "text/plain": [
       "                            y\n",
       "ds                           \n",
       "2025-05-22 11:28:30  0.672913\n",
       "2025-05-22 11:21:58  0.072377\n",
       "2025-05-22 11:15:23 -0.247962\n",
       "2025-05-22 11:08:48  0.040522\n",
       "2025-05-22 11:02:13 -0.003816\n",
       "...                       ...\n",
       "2024-03-25 12:40:08  0.068994\n",
       "2024-03-25 12:33:01 -0.135073\n",
       "2024-03-25 12:25:58 -0.001210\n",
       "2024-03-25 12:18:56  0.193887\n",
       "2024-03-25 12:11:46 -0.176740\n",
       "\n",
       "[82639 rows x 1 columns]"
      ]
     },
     "execution_count": 148,
     "metadata": {},
     "output_type": "execute_result"
    }
   ],
   "source": [
    "raw_data = pd.read_csv(\"bq_slot_data_1000.csv\")\n",
    "raw_data = raw_data.rename(\n",
    "    columns = {\n",
    "        \"end_timestamp\":\"ds\",\"total_lamports\":\"y\"\n",
    "        }\n",
    "        )\n",
    "raw_data.index = pd.to_datetime(raw_data[\"ds\"]).dt.tz_localize(None)\n",
    "raw_data.drop(columns = {'ds'},inplace=True)\n",
    "raw_data[\"y\"] = raw_data[\"y\"]/1000\n",
    "\n",
    "raw_data = pd.DataFrame({\"y\":raw_data[\"y\"]})\n",
    "raw_data = np.log(raw_data/raw_data.shift(1))\n",
    "raw_data = raw_data.dropna()\n",
    "\n",
    "raw_data\n"
   ]
  },
  {
   "cell_type": "code",
   "execution_count": null,
   "id": "aa7064d0",
   "metadata": {},
   "outputs": [
    {
     "name": "stdout",
     "output_type": "stream",
     "text": [
      "                     Constant Mean - EGARCH Model Results                     \n",
      "==============================================================================\n",
      "Dep. Variable:                      y   R-squared:                       0.000\n",
      "Mean Model:             Constant Mean   Adj. R-squared:                  0.000\n",
      "Vol Model:                     EGARCH   Log-Likelihood:               -164743.\n",
      "Distribution:                  Normal   AIC:                           329495.\n",
      "Method:            Maximum Likelihood   BIC:                           329532.\n",
      "                                        No. Observations:                82639\n",
      "Date:                Wed, May 28 2025   Df Residuals:                    82638\n",
      "Time:                        10:10:08   Df Model:                            1\n",
      "                                  Mean Model                                 \n",
      "=============================================================================\n",
      "                 coef    std err          t      P>|t|       95.0% Conf. Int.\n",
      "-----------------------------------------------------------------------------\n",
      "mu             0.0133  7.912e-03      1.678  9.327e-02 [-2.228e-03,2.879e-02]\n",
      "                            Volatility Model                            \n",
      "========================================================================\n",
      "                 coef    std err          t      P>|t|  95.0% Conf. Int.\n",
      "------------------------------------------------------------------------\n",
      "omega          0.5190  5.419e-02      9.577  9.964e-22 [  0.413,  0.625]\n",
      "alpha[1]       0.5616  2.484e-02     22.607 3.723e-113 [  0.513,  0.610]\n",
      "beta[1]        0.6001  4.005e-02     14.984  9.304e-51 [  0.522,  0.679]\n",
      "========================================================================\n",
      "\n",
      "Covariance estimator: robust\n",
      "Prévision de la volatilité au prochain pas : 1.976544845868057\n"
     ]
    },
    {
     "data": {
      "image/png": "[encoded data removed]",
      "text/plain": [
       "<Figure size 1200x600 with 1 Axes>"
      ]
     },
     "metadata": {},
     "output_type": "display_data"
    }
   ],
   "source": [
    "model = arch_model(\n",
    "    raw_data[\"y\"],\n",
    "    vol='EGARCH',\n",
    "    p=1,\n",
    "    q=1,\n",
    "    mean='Constant',\n",
    "    rescale=True\n",
    ")\n",
    "\n",
    "results = model.fit(disp=\"off\")\n",
    "\n",
    "print(results.summary())\n",
    "\n",
    "forecast = results.forecast(horizon=1, start=None)  # prédiction one-step-ahead\n",
    "vol_forecast = forecast.variance.iloc[-1, 0]**0.5\n",
    "print(f\"Prévision de la volatilité au prochain pas : {vol_forecast}\")\n",
    "\n",
    "\n",
    "# Variance conditionnelle estimée\n",
    "volatility_series = results.conditional_volatility\n",
    "volatility_series.name = \"SOL_volatility\"\n",
    "\n",
    "\n",
    "import matplotlib.pyplot as plt\n",
    "\n",
    "volatility_series.plot(figsize=(12,6), title=\"Estimated Conditional Volatility (EGARCH)\")\n",
    "plt.grid()\n",
    "plt.show()"
   ]
  },
  {
   "cell_type": "code",
   "execution_count": 140,
   "id": "2d7764e5",
   "metadata": {},
   "outputs": [
    {
     "data": {
      "image/png": "[encoded data removed]",
      "text/plain": [
       "<Figure size 640x480 with 1 Axes>"
      ]
     },
     "metadata": {},
     "output_type": "display_data"
    }
   ],
   "source": [
    "from pandas.plotting import autocorrelation_plot\n",
    "\n",
    "autocorrelation_plot(serie1)\n",
    "plt.show()"
   ]
  },
  {
   "cell_type": "code",
   "execution_count": 141,
   "id": "1c67f3f3",
   "metadata": {},
   "outputs": [],
   "source": [
    "\n",
    "####################### Data Split ###############################################################################################################################\n",
    "data = raw_data.copy().sort_index()\n",
    "data_train = data[data.index < datetime(2025,1,1)]\n",
    "data_test = data[data.index >= datetime(2025,1,1)]\n",
    "\n",
    "\n"
   ]
  },
  {
   "cell_type": "code",
   "execution_count": 142,
   "id": "0299275a",
   "metadata": {},
   "outputs": [
    {
     "name": "stderr",
     "output_type": "stream",
     "text": [
      "/Users/hamzamuhammad/Library/Python/3.9/lib/python/site-packages/numpy/linalg/_linalg.py:3220: RuntimeWarning: divide by zero encountered in matmul\n",
      "  return _core_matmul(x1, x2)\n",
      "/Users/hamzamuhammad/Library/Python/3.9/lib/python/site-packages/numpy/linalg/_linalg.py:3220: RuntimeWarning: overflow encountered in matmul\n",
      "  return _core_matmul(x1, x2)\n",
      "/Users/hamzamuhammad/Library/Python/3.9/lib/python/site-packages/numpy/linalg/_linalg.py:3220: RuntimeWarning: invalid value encountered in matmul\n",
      "  return _core_matmul(x1, x2)\n",
      "/var/folders/ky/bkmw074j5j5_ss2q259cfpq80000gn/T/ipykernel_44458/4071761227.py:10: FutureWarning: Series.__getitem__ treating keys as positions is deprecated. In a future version, integer keys will always be treated as labels (consistent with DataFrame behavior). To access a value by position, use `ser.iloc[pos]`\n",
      "  obs = data_test[\"y\"][t]\n"
     ]
    },
    {
     "name": "stdout",
     "output_type": "stream",
     "text": [
      "2025-01-01 00:05:42\n",
      "predicted=0.010482, expected=0.038996\n",
      "2025-01-01 00:12:35\n",
      "predicted=-0.077258, expected=0.112706\n"
     ]
    },
    {
     "ename": "KeyboardInterrupt",
     "evalue": "",
     "output_type": "error",
     "traceback": [
      "\u001b[0;31m---------------------------------------------------------------------------\u001b[0m",
      "\u001b[0;31mKeyboardInterrupt\u001b[0m                         Traceback (most recent call last)",
      "Cell \u001b[0;32mIn[142], line 6\u001b[0m\n\u001b[1;32m      4\u001b[0m \u001b[38;5;28;01mfor\u001b[39;00m t \u001b[38;5;129;01min\u001b[39;00m \u001b[38;5;28mrange\u001b[39m(\u001b[38;5;28mlen\u001b[39m(data_test[\u001b[38;5;124m\"\u001b[39m\u001b[38;5;124my\u001b[39m\u001b[38;5;124m\"\u001b[39m])):\n\u001b[1;32m      5\u001b[0m \tmodel \u001b[38;5;241m=\u001b[39m ARIMA(history, order\u001b[38;5;241m=\u001b[39m(\u001b[38;5;241m5\u001b[39m,\u001b[38;5;241m1\u001b[39m,\u001b[38;5;241m0\u001b[39m))\n\u001b[0;32m----> 6\u001b[0m \tmodel_fit \u001b[38;5;241m=\u001b[39m \u001b[43mmodel\u001b[49m\u001b[38;5;241;43m.\u001b[39;49m\u001b[43mfit\u001b[49m\u001b[43m(\u001b[49m\u001b[43m)\u001b[49m\n\u001b[1;32m      7\u001b[0m \toutput \u001b[38;5;241m=\u001b[39m model_fit\u001b[38;5;241m.\u001b[39mforecast()\n\u001b[1;32m      8\u001b[0m \tyhat \u001b[38;5;241m=\u001b[39m output[\u001b[38;5;241m0\u001b[39m]\n",
      "File \u001b[0;32m~/Library/Python/3.9/lib/python/site-packages/statsmodels/tsa/arima/model.py:395\u001b[0m, in \u001b[0;36mARIMA.fit\u001b[0;34m(self, start_params, transformed, includes_fixed, method, method_kwargs, gls, gls_kwargs, cov_type, cov_kwds, return_params, low_memory)\u001b[0m\n\u001b[1;32m    392\u001b[0m \u001b[38;5;28;01melse\u001b[39;00m:\n\u001b[1;32m    393\u001b[0m     method_kwargs\u001b[38;5;241m.\u001b[39msetdefault(\u001b[38;5;124m'\u001b[39m\u001b[38;5;124mdisp\u001b[39m\u001b[38;5;124m'\u001b[39m, \u001b[38;5;241m0\u001b[39m)\n\u001b[0;32m--> 395\u001b[0m     res \u001b[38;5;241m=\u001b[39m \u001b[38;5;28;43msuper\u001b[39;49m\u001b[43m(\u001b[49m\u001b[43m)\u001b[49m\u001b[38;5;241;43m.\u001b[39;49m\u001b[43mfit\u001b[49m\u001b[43m(\u001b[49m\n\u001b[1;32m    396\u001b[0m \u001b[43m        \u001b[49m\u001b[43mreturn_params\u001b[49m\u001b[38;5;241;43m=\u001b[39;49m\u001b[43mreturn_params\u001b[49m\u001b[43m,\u001b[49m\u001b[43m \u001b[49m\u001b[43mlow_memory\u001b[49m\u001b[38;5;241;43m=\u001b[39;49m\u001b[43mlow_memory\u001b[49m\u001b[43m,\u001b[49m\n\u001b[1;32m    397\u001b[0m \u001b[43m        \u001b[49m\u001b[43mcov_type\u001b[49m\u001b[38;5;241;43m=\u001b[39;49m\u001b[43mcov_type\u001b[49m\u001b[43m,\u001b[49m\u001b[43m \u001b[49m\u001b[43mcov_kwds\u001b[49m\u001b[38;5;241;43m=\u001b[39;49m\u001b[43mcov_kwds\u001b[49m\u001b[43m,\u001b[49m\u001b[43m \u001b[49m\u001b[38;5;241;43m*\u001b[39;49m\u001b[38;5;241;43m*\u001b[39;49m\u001b[43mmethod_kwargs\u001b[49m\u001b[43m)\u001b[49m\n\u001b[1;32m    398\u001b[0m     \u001b[38;5;28;01mif\u001b[39;00m \u001b[38;5;129;01mnot\u001b[39;00m return_params:\n\u001b[1;32m    399\u001b[0m         res\u001b[38;5;241m.\u001b[39mfit_details \u001b[38;5;241m=\u001b[39m res\u001b[38;5;241m.\u001b[39mmlefit\n",
      "File \u001b[0;32m~/Library/Python/3.9/lib/python/site-packages/statsmodels/tsa/statespace/mlemodel.py:729\u001b[0m, in \u001b[0;36mMLEModel.fit\u001b[0;34m(self, start_params, transformed, includes_fixed, cov_type, cov_kwds, method, maxiter, full_output, disp, callback, return_params, optim_score, optim_complex_step, optim_hessian, flags, low_memory, **kwargs)\u001b[0m\n\u001b[1;32m    727\u001b[0m \u001b[38;5;28;01melse\u001b[39;00m:\n\u001b[1;32m    728\u001b[0m     func \u001b[38;5;241m=\u001b[39m \u001b[38;5;28mself\u001b[39m\u001b[38;5;241m.\u001b[39msmooth\n\u001b[0;32m--> 729\u001b[0m res \u001b[38;5;241m=\u001b[39m \u001b[43mfunc\u001b[49m\u001b[43m(\u001b[49m\u001b[43mmlefit\u001b[49m\u001b[38;5;241;43m.\u001b[39;49m\u001b[43mparams\u001b[49m\u001b[43m,\u001b[49m\u001b[43m \u001b[49m\u001b[43mtransformed\u001b[49m\u001b[38;5;241;43m=\u001b[39;49m\u001b[38;5;28;43;01mFalse\u001b[39;49;00m\u001b[43m,\u001b[49m\u001b[43m \u001b[49m\u001b[43mincludes_fixed\u001b[49m\u001b[38;5;241;43m=\u001b[39;49m\u001b[38;5;28;43;01mFalse\u001b[39;49;00m\u001b[43m,\u001b[49m\n\u001b[1;32m    730\u001b[0m \u001b[43m           \u001b[49m\u001b[43mcov_type\u001b[49m\u001b[38;5;241;43m=\u001b[39;49m\u001b[43mcov_type\u001b[49m\u001b[43m,\u001b[49m\u001b[43m \u001b[49m\u001b[43mcov_kwds\u001b[49m\u001b[38;5;241;43m=\u001b[39;49m\u001b[43mcov_kwds\u001b[49m\u001b[43m)\u001b[49m\n\u001b[1;32m    732\u001b[0m res\u001b[38;5;241m.\u001b[39mmlefit \u001b[38;5;241m=\u001b[39m mlefit\n\u001b[1;32m    733\u001b[0m res\u001b[38;5;241m.\u001b[39mmle_retvals \u001b[38;5;241m=\u001b[39m mlefit\u001b[38;5;241m.\u001b[39mmle_retvals\n",
      "File \u001b[0;32m~/Library/Python/3.9/lib/python/site-packages/statsmodels/tsa/statespace/mlemodel.py:890\u001b[0m, in \u001b[0;36mMLEModel.smooth\u001b[0;34m(self, params, transformed, includes_fixed, complex_step, cov_type, cov_kwds, return_ssm, results_class, results_wrapper_class, **kwargs)\u001b[0m\n\u001b[1;32m    887\u001b[0m result \u001b[38;5;241m=\u001b[39m \u001b[38;5;28mself\u001b[39m\u001b[38;5;241m.\u001b[39mssm\u001b[38;5;241m.\u001b[39msmooth(complex_step\u001b[38;5;241m=\u001b[39mcomplex_step, \u001b[38;5;241m*\u001b[39m\u001b[38;5;241m*\u001b[39mkwargs)\n\u001b[1;32m    889\u001b[0m \u001b[38;5;66;03m# Wrap in a results object\u001b[39;00m\n\u001b[0;32m--> 890\u001b[0m \u001b[38;5;28;01mreturn\u001b[39;00m \u001b[38;5;28;43mself\u001b[39;49m\u001b[38;5;241;43m.\u001b[39;49m\u001b[43m_wrap_results\u001b[49m\u001b[43m(\u001b[49m\u001b[43mparams\u001b[49m\u001b[43m,\u001b[49m\u001b[43m \u001b[49m\u001b[43mresult\u001b[49m\u001b[43m,\u001b[49m\u001b[43m \u001b[49m\u001b[43mreturn_ssm\u001b[49m\u001b[43m,\u001b[49m\u001b[43m \u001b[49m\u001b[43mcov_type\u001b[49m\u001b[43m,\u001b[49m\n\u001b[1;32m    891\u001b[0m \u001b[43m                          \u001b[49m\u001b[43mcov_kwds\u001b[49m\u001b[43m,\u001b[49m\u001b[43m \u001b[49m\u001b[43mresults_class\u001b[49m\u001b[43m,\u001b[49m\n\u001b[1;32m    892\u001b[0m \u001b[43m                          \u001b[49m\u001b[43mresults_wrapper_class\u001b[49m\u001b[43m)\u001b[49m\n",
      "File \u001b[0;32m~/Library/Python/3.9/lib/python/site-packages/statsmodels/tsa/statespace/mlemodel.py:789\u001b[0m, in \u001b[0;36mMLEModel._wrap_results\u001b[0;34m(self, params, result, return_raw, cov_type, cov_kwds, results_class, wrapper_class)\u001b[0m\n\u001b[1;32m    786\u001b[0m     \u001b[38;5;28;01mif\u001b[39;00m wrapper_class \u001b[38;5;129;01mis\u001b[39;00m \u001b[38;5;28;01mNone\u001b[39;00m:\n\u001b[1;32m    787\u001b[0m         wrapper_class \u001b[38;5;241m=\u001b[39m \u001b[38;5;28mself\u001b[39m\u001b[38;5;241m.\u001b[39m_res_classes[\u001b[38;5;124m'\u001b[39m\u001b[38;5;124mfit\u001b[39m\u001b[38;5;124m'\u001b[39m][\u001b[38;5;241m1\u001b[39m]\n\u001b[0;32m--> 789\u001b[0m     res \u001b[38;5;241m=\u001b[39m \u001b[43mresults_class\u001b[49m\u001b[43m(\u001b[49m\u001b[38;5;28;43mself\u001b[39;49m\u001b[43m,\u001b[49m\u001b[43m \u001b[49m\u001b[43mparams\u001b[49m\u001b[43m,\u001b[49m\u001b[43m \u001b[49m\u001b[43mresult\u001b[49m\u001b[43m,\u001b[49m\u001b[43m \u001b[49m\u001b[38;5;241;43m*\u001b[39;49m\u001b[38;5;241;43m*\u001b[39;49m\u001b[43mresult_kwargs\u001b[49m\u001b[43m)\u001b[49m\n\u001b[1;32m    790\u001b[0m     result \u001b[38;5;241m=\u001b[39m wrapper_class(res)\n\u001b[1;32m    791\u001b[0m \u001b[38;5;28;01mreturn\u001b[39;00m result\n",
      "File \u001b[0;32m~/Library/Python/3.9/lib/python/site-packages/statsmodels/tsa/statespace/sarimax.py:1809\u001b[0m, in \u001b[0;36mSARIMAXResults.__init__\u001b[0;34m(self, model, params, filter_results, cov_type, **kwargs)\u001b[0m\n\u001b[1;32m   1807\u001b[0m \u001b[38;5;28;01mdef\u001b[39;00m \u001b[38;5;21m__init__\u001b[39m(\u001b[38;5;28mself\u001b[39m, model, params, filter_results, cov_type\u001b[38;5;241m=\u001b[39m\u001b[38;5;28;01mNone\u001b[39;00m,\n\u001b[1;32m   1808\u001b[0m              \u001b[38;5;241m*\u001b[39m\u001b[38;5;241m*\u001b[39mkwargs):\n\u001b[0;32m-> 1809\u001b[0m     \u001b[38;5;28;43msuper\u001b[39;49m\u001b[43m(\u001b[49m\u001b[43m)\u001b[49m\u001b[38;5;241;43m.\u001b[39;49m\u001b[38;5;21;43m__init__\u001b[39;49m\u001b[43m(\u001b[49m\u001b[43mmodel\u001b[49m\u001b[43m,\u001b[49m\u001b[43m \u001b[49m\u001b[43mparams\u001b[49m\u001b[43m,\u001b[49m\u001b[43m \u001b[49m\u001b[43mfilter_results\u001b[49m\u001b[43m,\u001b[49m\u001b[43m \u001b[49m\u001b[43mcov_type\u001b[49m\u001b[43m,\u001b[49m\u001b[43m \u001b[49m\u001b[38;5;241;43m*\u001b[39;49m\u001b[38;5;241;43m*\u001b[39;49m\u001b[43mkwargs\u001b[49m\u001b[43m)\u001b[49m\n\u001b[1;32m   1811\u001b[0m     \u001b[38;5;28mself\u001b[39m\u001b[38;5;241m.\u001b[39mdf_resid \u001b[38;5;241m=\u001b[39m np\u001b[38;5;241m.\u001b[39minf  \u001b[38;5;66;03m# attribute required for wald tests\u001b[39;00m\n\u001b[1;32m   1813\u001b[0m     \u001b[38;5;66;03m# Save _init_kwds\u001b[39;00m\n",
      "File \u001b[0;32m~/Library/Python/3.9/lib/python/site-packages/statsmodels/tsa/statespace/mlemodel.py:2374\u001b[0m, in \u001b[0;36mMLEResults.__init__\u001b[0;34m(self, model, params, results, cov_type, cov_kwds, **kwargs)\u001b[0m\n\u001b[1;32m   2372\u001b[0m \u001b[38;5;28;01mtry\u001b[39;00m:\n\u001b[1;32m   2373\u001b[0m     \u001b[38;5;28mself\u001b[39m\u001b[38;5;241m.\u001b[39m_rank \u001b[38;5;241m=\u001b[39m \u001b[38;5;28;01mNone\u001b[39;00m\n\u001b[0;32m-> 2374\u001b[0m     \u001b[38;5;28;43mself\u001b[39;49m\u001b[38;5;241;43m.\u001b[39;49m\u001b[43m_get_robustcov_results\u001b[49m\u001b[43m(\u001b[49m\u001b[43mcov_type\u001b[49m\u001b[38;5;241;43m=\u001b[39;49m\u001b[43mcov_type\u001b[49m\u001b[43m,\u001b[49m\u001b[43m \u001b[49m\u001b[43muse_self\u001b[49m\u001b[38;5;241;43m=\u001b[39;49m\u001b[38;5;28;43;01mTrue\u001b[39;49;00m\u001b[43m,\u001b[49m\n\u001b[1;32m   2375\u001b[0m \u001b[43m                                \u001b[49m\u001b[38;5;241;43m*\u001b[39;49m\u001b[38;5;241;43m*\u001b[39;49m\u001b[43mcov_kwds\u001b[49m\u001b[43m)\u001b[49m\n\u001b[1;32m   2376\u001b[0m \u001b[38;5;28;01mexcept\u001b[39;00m np\u001b[38;5;241m.\u001b[39mlinalg\u001b[38;5;241m.\u001b[39mLinAlgError:\n\u001b[1;32m   2377\u001b[0m     \u001b[38;5;28mself\u001b[39m\u001b[38;5;241m.\u001b[39m_rank \u001b[38;5;241m=\u001b[39m \u001b[38;5;241m0\u001b[39m\n",
      "File \u001b[0;32m~/Library/Python/3.9/lib/python/site-packages/statsmodels/tsa/statespace/mlemodel.py:2604\u001b[0m, in \u001b[0;36mMLEResults._get_robustcov_results\u001b[0;34m(self, cov_type, **kwargs)\u001b[0m\n\u001b[1;32m   2601\u001b[0m     res\u001b[38;5;241m.\u001b[39mcov_kwds[\u001b[38;5;124m'\u001b[39m\u001b[38;5;124mdescription\u001b[39m\u001b[38;5;124m'\u001b[39m] \u001b[38;5;241m=\u001b[39m descriptions[\u001b[38;5;124m'\u001b[39m\u001b[38;5;124mOIM\u001b[39m\u001b[38;5;124m'\u001b[39m]\u001b[38;5;241m.\u001b[39mformat(\n\u001b[1;32m   2602\u001b[0m                                         approx_type\u001b[38;5;241m=\u001b[39mapprox_type_str)\n\u001b[1;32m   2603\u001b[0m \u001b[38;5;28;01melif\u001b[39;00m \u001b[38;5;28mself\u001b[39m\u001b[38;5;241m.\u001b[39mcov_type \u001b[38;5;241m==\u001b[39m \u001b[38;5;124m'\u001b[39m\u001b[38;5;124mopg\u001b[39m\u001b[38;5;124m'\u001b[39m:\n\u001b[0;32m-> 2604\u001b[0m     res\u001b[38;5;241m.\u001b[39mcov_params_default \u001b[38;5;241m=\u001b[39m \u001b[43mres\u001b[49m\u001b[38;5;241;43m.\u001b[39;49m\u001b[43mcov_params_opg\u001b[49m\n\u001b[1;32m   2605\u001b[0m     res\u001b[38;5;241m.\u001b[39mcov_kwds[\u001b[38;5;124m'\u001b[39m\u001b[38;5;124mdescription\u001b[39m\u001b[38;5;124m'\u001b[39m] \u001b[38;5;241m=\u001b[39m descriptions[\u001b[38;5;124m'\u001b[39m\u001b[38;5;124mOPG\u001b[39m\u001b[38;5;124m'\u001b[39m]\u001b[38;5;241m.\u001b[39mformat(\n\u001b[1;32m   2606\u001b[0m                                         approx_type\u001b[38;5;241m=\u001b[39mapprox_type_str)\n\u001b[1;32m   2607\u001b[0m \u001b[38;5;28;01melif\u001b[39;00m \u001b[38;5;28mself\u001b[39m\u001b[38;5;241m.\u001b[39mcov_type \u001b[38;5;241m==\u001b[39m \u001b[38;5;124m'\u001b[39m\u001b[38;5;124mrobust\u001b[39m\u001b[38;5;124m'\u001b[39m \u001b[38;5;129;01mor\u001b[39;00m \u001b[38;5;28mself\u001b[39m\u001b[38;5;241m.\u001b[39mcov_type \u001b[38;5;241m==\u001b[39m \u001b[38;5;124m'\u001b[39m\u001b[38;5;124mrobust_oim\u001b[39m\u001b[38;5;124m'\u001b[39m:\n",
      "File \u001b[0;32mproperties.pyx:36\u001b[0m, in \u001b[0;36mpandas._libs.properties.CachedProperty.__get__\u001b[0;34m()\u001b[0m\n",
      "File \u001b[0;32m~/Library/Python/3.9/lib/python/site-packages/statsmodels/tsa/statespace/mlemodel.py:2734\u001b[0m, in \u001b[0;36mMLEResults.cov_params_opg\u001b[0;34m(self)\u001b[0m\n\u001b[1;32m   2728\u001b[0m \u001b[38;5;129m@cache_readonly\u001b[39m\n\u001b[1;32m   2729\u001b[0m \u001b[38;5;28;01mdef\u001b[39;00m \u001b[38;5;21mcov_params_opg\u001b[39m(\u001b[38;5;28mself\u001b[39m):\n\u001b[1;32m   2730\u001b[0m \u001b[38;5;250m    \u001b[39m\u001b[38;5;124;03m\"\"\"\u001b[39;00m\n\u001b[1;32m   2731\u001b[0m \u001b[38;5;124;03m    (array) The variance / covariance matrix. Computed using the outer\u001b[39;00m\n\u001b[1;32m   2732\u001b[0m \u001b[38;5;124;03m    product of gradients method.\u001b[39;00m\n\u001b[1;32m   2733\u001b[0m \u001b[38;5;124;03m    \"\"\"\u001b[39;00m\n\u001b[0;32m-> 2734\u001b[0m     \u001b[38;5;28;01mreturn\u001b[39;00m \u001b[38;5;28;43mself\u001b[39;49m\u001b[38;5;241;43m.\u001b[39;49m\u001b[43m_cov_params_opg\u001b[49m\u001b[43m(\u001b[49m\u001b[38;5;28;43mself\u001b[39;49m\u001b[38;5;241;43m.\u001b[39;49m\u001b[43m_cov_approx_complex_step\u001b[49m\u001b[43m,\u001b[49m\n\u001b[1;32m   2735\u001b[0m \u001b[43m                                \u001b[49m\u001b[38;5;28;43mself\u001b[39;49m\u001b[38;5;241;43m.\u001b[39;49m\u001b[43m_cov_approx_centered\u001b[49m\u001b[43m)\u001b[49m\n",
      "File \u001b[0;32m~/Library/Python/3.9/lib/python/site-packages/statsmodels/tsa/statespace/mlemodel.py:2701\u001b[0m, in \u001b[0;36mMLEResults._cov_params_opg\u001b[0;34m(self, approx_complex_step, approx_centered)\u001b[0m\n\u001b[1;32m   2700\u001b[0m \u001b[38;5;28;01mdef\u001b[39;00m \u001b[38;5;21m_cov_params_opg\u001b[39m(\u001b[38;5;28mself\u001b[39m, approx_complex_step\u001b[38;5;241m=\u001b[39m\u001b[38;5;28;01mTrue\u001b[39;00m, approx_centered\u001b[38;5;241m=\u001b[39m\u001b[38;5;28;01mFalse\u001b[39;00m):\n\u001b[0;32m-> 2701\u001b[0m     evaluated_hessian \u001b[38;5;241m=\u001b[39m \u001b[38;5;28mself\u001b[39m\u001b[38;5;241m.\u001b[39mnobs_effective \u001b[38;5;241m*\u001b[39m \u001b[38;5;28;43mself\u001b[39;49m\u001b[38;5;241;43m.\u001b[39;49m\u001b[43mmodel\u001b[49m\u001b[38;5;241;43m.\u001b[39;49m\u001b[43m_hessian_opg\u001b[49m\u001b[43m(\u001b[49m\n\u001b[1;32m   2702\u001b[0m \u001b[43m        \u001b[49m\u001b[38;5;28;43mself\u001b[39;49m\u001b[38;5;241;43m.\u001b[39;49m\u001b[43mparams\u001b[49m\u001b[43m,\u001b[49m\u001b[43m \u001b[49m\u001b[43mtransformed\u001b[49m\u001b[38;5;241;43m=\u001b[39;49m\u001b[38;5;28;43;01mTrue\u001b[39;49;00m\u001b[43m,\u001b[49m\u001b[43m \u001b[49m\u001b[43mincludes_fixed\u001b[49m\u001b[38;5;241;43m=\u001b[39;49m\u001b[38;5;28;43;01mTrue\u001b[39;49;00m\u001b[43m,\u001b[49m\n\u001b[1;32m   2703\u001b[0m \u001b[43m        \u001b[49m\u001b[43mapprox_complex_step\u001b[49m\u001b[38;5;241;43m=\u001b[39;49m\u001b[43mapprox_complex_step\u001b[49m\u001b[43m,\u001b[49m\n\u001b[1;32m   2704\u001b[0m \u001b[43m        \u001b[49m\u001b[43mapprox_centered\u001b[49m\u001b[38;5;241;43m=\u001b[39;49m\u001b[43mapprox_centered\u001b[49m\u001b[43m)\u001b[49m\n\u001b[1;32m   2706\u001b[0m     no_free_params \u001b[38;5;241m=\u001b[39m (\u001b[38;5;28mself\u001b[39m\u001b[38;5;241m.\u001b[39m_free_params_index \u001b[38;5;129;01mis\u001b[39;00m \u001b[38;5;129;01mnot\u001b[39;00m \u001b[38;5;28;01mNone\u001b[39;00m \u001b[38;5;129;01mand\u001b[39;00m\n\u001b[1;32m   2707\u001b[0m                       \u001b[38;5;28mlen\u001b[39m(\u001b[38;5;28mself\u001b[39m\u001b[38;5;241m.\u001b[39m_free_params_index) \u001b[38;5;241m==\u001b[39m \u001b[38;5;241m0\u001b[39m)\n\u001b[1;32m   2709\u001b[0m     \u001b[38;5;28;01mif\u001b[39;00m no_free_params:\n",
      "File \u001b[0;32m~/Library/Python/3.9/lib/python/site-packages/statsmodels/tsa/statespace/mlemodel.py:1543\u001b[0m, in \u001b[0;36mMLEModel._hessian_opg\u001b[0;34m(self, params, **kwargs)\u001b[0m\n\u001b[1;32m   1538\u001b[0m \u001b[38;5;28;01mdef\u001b[39;00m \u001b[38;5;21m_hessian_opg\u001b[39m(\u001b[38;5;28mself\u001b[39m, params, \u001b[38;5;241m*\u001b[39m\u001b[38;5;241m*\u001b[39mkwargs):\n\u001b[1;32m   1539\u001b[0m \u001b[38;5;250m    \u001b[39m\u001b[38;5;124;03m\"\"\"\u001b[39;00m\n\u001b[1;32m   1540\u001b[0m \u001b[38;5;124;03m    Hessian matrix computed using the outer product of gradients\u001b[39;00m\n\u001b[1;32m   1541\u001b[0m \u001b[38;5;124;03m    information matrix\u001b[39;00m\n\u001b[1;32m   1542\u001b[0m \u001b[38;5;124;03m    \"\"\"\u001b[39;00m\n\u001b[0;32m-> 1543\u001b[0m     \u001b[38;5;28;01mreturn\u001b[39;00m \u001b[38;5;241m-\u001b[39m\u001b[38;5;28;43mself\u001b[39;49m\u001b[38;5;241;43m.\u001b[39;49m\u001b[43mopg_information_matrix\u001b[49m\u001b[43m(\u001b[49m\u001b[43mparams\u001b[49m\u001b[43m,\u001b[49m\u001b[43m \u001b[49m\u001b[38;5;241;43m*\u001b[39;49m\u001b[38;5;241;43m*\u001b[39;49m\u001b[43mkwargs\u001b[49m\u001b[43m)\u001b[49m\n",
      "File \u001b[0;32m~/Library/Python/3.9/lib/python/site-packages/statsmodels/tsa/statespace/mlemodel.py:1230\u001b[0m, in \u001b[0;36mMLEModel.opg_information_matrix\u001b[0;34m(self, params, transformed, includes_fixed, approx_complex_step, **kwargs)\u001b[0m\n\u001b[1;32m   1225\u001b[0m \u001b[38;5;28;01mif\u001b[39;00m \u001b[38;5;129;01mnot\u001b[39;00m transformed \u001b[38;5;129;01mand\u001b[39;00m approx_complex_step:\n\u001b[1;32m   1226\u001b[0m     \u001b[38;5;28;01mraise\u001b[39;00m \u001b[38;5;167;01mValueError\u001b[39;00m(\u001b[38;5;124m\"\u001b[39m\u001b[38;5;124mCannot use complex-step approximations to\u001b[39m\u001b[38;5;124m\"\u001b[39m\n\u001b[1;32m   1227\u001b[0m                      \u001b[38;5;124m\"\u001b[39m\u001b[38;5;124m calculate the observed_information_matrix\u001b[39m\u001b[38;5;124m\"\u001b[39m\n\u001b[1;32m   1228\u001b[0m                      \u001b[38;5;124m\"\u001b[39m\u001b[38;5;124m with untransformed parameters.\u001b[39m\u001b[38;5;124m\"\u001b[39m)\n\u001b[0;32m-> 1230\u001b[0m score_obs \u001b[38;5;241m=\u001b[39m \u001b[38;5;28;43mself\u001b[39;49m\u001b[38;5;241;43m.\u001b[39;49m\u001b[43mscore_obs\u001b[49m\u001b[43m(\u001b[49m\u001b[43mparams\u001b[49m\u001b[43m,\u001b[49m\u001b[43m \u001b[49m\u001b[43mtransformed\u001b[49m\u001b[38;5;241;43m=\u001b[39;49m\u001b[43mtransformed\u001b[49m\u001b[43m,\u001b[49m\n\u001b[1;32m   1231\u001b[0m \u001b[43m                           \u001b[49m\u001b[43mincludes_fixed\u001b[49m\u001b[38;5;241;43m=\u001b[39;49m\u001b[43mincludes_fixed\u001b[49m\u001b[43m,\u001b[49m\n\u001b[1;32m   1232\u001b[0m \u001b[43m                           \u001b[49m\u001b[43mapprox_complex_step\u001b[49m\u001b[38;5;241;43m=\u001b[39;49m\u001b[43mapprox_complex_step\u001b[49m\u001b[43m,\u001b[49m\n\u001b[1;32m   1233\u001b[0m \u001b[43m                           \u001b[49m\u001b[38;5;241;43m*\u001b[39;49m\u001b[38;5;241;43m*\u001b[39;49m\u001b[43mkwargs\u001b[49m\u001b[43m)\u001b[49m\u001b[38;5;241m.\u001b[39mtranspose()\n\u001b[1;32m   1234\u001b[0m \u001b[38;5;28;01mreturn\u001b[39;00m (\n\u001b[1;32m   1235\u001b[0m     np\u001b[38;5;241m.\u001b[39minner(score_obs, score_obs) \u001b[38;5;241m/\u001b[39m\n\u001b[1;32m   1236\u001b[0m     (\u001b[38;5;28mself\u001b[39m\u001b[38;5;241m.\u001b[39mnobs \u001b[38;5;241m-\u001b[39m \u001b[38;5;28mself\u001b[39m\u001b[38;5;241m.\u001b[39mssm\u001b[38;5;241m.\u001b[39mloglikelihood_burn)\n\u001b[1;32m   1237\u001b[0m )\n",
      "File \u001b[0;32m~/Library/Python/3.9/lib/python/site-packages/statsmodels/tsa/statespace/mlemodel.py:1449\u001b[0m, in \u001b[0;36mMLEModel.score_obs\u001b[0;34m(self, params, method, transformed, includes_fixed, approx_complex_step, approx_centered, **kwargs)\u001b[0m\n\u001b[1;32m   1447\u001b[0m     epsilon \u001b[38;5;241m=\u001b[39m _get_epsilon(params, \u001b[38;5;241m2.\u001b[39m, \u001b[38;5;28;01mNone\u001b[39;00m, \u001b[38;5;28mlen\u001b[39m(params))\n\u001b[1;32m   1448\u001b[0m     kwargs[\u001b[38;5;124m'\u001b[39m\u001b[38;5;124mcomplex_step\u001b[39m\u001b[38;5;124m'\u001b[39m] \u001b[38;5;241m=\u001b[39m \u001b[38;5;28;01mTrue\u001b[39;00m\n\u001b[0;32m-> 1449\u001b[0m     score \u001b[38;5;241m=\u001b[39m \u001b[43mapprox_fprime_cs\u001b[49m\u001b[43m(\u001b[49m\u001b[43mparams\u001b[49m\u001b[43m,\u001b[49m\u001b[43m \u001b[49m\u001b[38;5;28;43mself\u001b[39;49m\u001b[38;5;241;43m.\u001b[39;49m\u001b[43mloglikeobs\u001b[49m\u001b[43m,\u001b[49m\u001b[43m \u001b[49m\u001b[43mepsilon\u001b[49m\u001b[38;5;241;43m=\u001b[39;49m\u001b[43mepsilon\u001b[49m\u001b[43m,\u001b[49m\n\u001b[1;32m   1450\u001b[0m \u001b[43m                             \u001b[49m\u001b[43mkwargs\u001b[49m\u001b[38;5;241;43m=\u001b[39;49m\u001b[43mkwargs\u001b[49m\u001b[43m)\u001b[49m\n\u001b[1;32m   1451\u001b[0m \u001b[38;5;28;01melif\u001b[39;00m method \u001b[38;5;241m==\u001b[39m \u001b[38;5;124m'\u001b[39m\u001b[38;5;124mapprox\u001b[39m\u001b[38;5;124m'\u001b[39m:\n\u001b[1;32m   1452\u001b[0m     score \u001b[38;5;241m=\u001b[39m approx_fprime(params, \u001b[38;5;28mself\u001b[39m\u001b[38;5;241m.\u001b[39mloglikeobs, kwargs\u001b[38;5;241m=\u001b[39mkwargs,\n\u001b[1;32m   1453\u001b[0m                           centered\u001b[38;5;241m=\u001b[39mapprox_centered)\n",
      "File \u001b[0;32m~/Library/Python/3.9/lib/python/site-packages/statsmodels/tools/numdiff.py:251\u001b[0m, in \u001b[0;36mapprox_fprime_cs\u001b[0;34m(x, f, epsilon, args, kwargs)\u001b[0m\n\u001b[1;32m    249\u001b[0m increments \u001b[38;5;241m=\u001b[39m np\u001b[38;5;241m.\u001b[39midentity(n) \u001b[38;5;241m*\u001b[39m \u001b[38;5;241m1\u001b[39mj \u001b[38;5;241m*\u001b[39m epsilon\n\u001b[1;32m    250\u001b[0m \u001b[38;5;66;03m# TODO: see if this can be vectorized, but usually dim is small\u001b[39;00m\n\u001b[0;32m--> 251\u001b[0m partials \u001b[38;5;241m=\u001b[39m [f(x\u001b[38;5;241m+\u001b[39mih, \u001b[38;5;241m*\u001b[39margs, \u001b[38;5;241m*\u001b[39m\u001b[38;5;241m*\u001b[39mkwargs)\u001b[38;5;241m.\u001b[39mimag \u001b[38;5;241m/\u001b[39m epsilon[i]\n\u001b[1;32m    252\u001b[0m             \u001b[38;5;28;01mfor\u001b[39;00m i, ih \u001b[38;5;129;01min\u001b[39;00m \u001b[38;5;28menumerate\u001b[39m(increments)]\n\u001b[1;32m    254\u001b[0m \u001b[38;5;28;01mreturn\u001b[39;00m np\u001b[38;5;241m.\u001b[39marray(partials)\u001b[38;5;241m.\u001b[39mT\n",
      "File \u001b[0;32m~/Library/Python/3.9/lib/python/site-packages/statsmodels/tools/numdiff.py:251\u001b[0m, in \u001b[0;36m<listcomp>\u001b[0;34m(.0)\u001b[0m\n\u001b[1;32m    249\u001b[0m increments \u001b[38;5;241m=\u001b[39m np\u001b[38;5;241m.\u001b[39midentity(n) \u001b[38;5;241m*\u001b[39m \u001b[38;5;241m1\u001b[39mj \u001b[38;5;241m*\u001b[39m epsilon\n\u001b[1;32m    250\u001b[0m \u001b[38;5;66;03m# TODO: see if this can be vectorized, but usually dim is small\u001b[39;00m\n\u001b[0;32m--> 251\u001b[0m partials \u001b[38;5;241m=\u001b[39m [\u001b[43mf\u001b[49m\u001b[43m(\u001b[49m\u001b[43mx\u001b[49m\u001b[38;5;241;43m+\u001b[39;49m\u001b[43mih\u001b[49m\u001b[43m,\u001b[49m\u001b[43m \u001b[49m\u001b[38;5;241;43m*\u001b[39;49m\u001b[43margs\u001b[49m\u001b[43m,\u001b[49m\u001b[43m \u001b[49m\u001b[38;5;241;43m*\u001b[39;49m\u001b[38;5;241;43m*\u001b[39;49m\u001b[43mkwargs\u001b[49m\u001b[43m)\u001b[49m\u001b[38;5;241m.\u001b[39mimag \u001b[38;5;241m/\u001b[39m epsilon[i]\n\u001b[1;32m    252\u001b[0m             \u001b[38;5;28;01mfor\u001b[39;00m i, ih \u001b[38;5;129;01min\u001b[39;00m \u001b[38;5;28menumerate\u001b[39m(increments)]\n\u001b[1;32m    254\u001b[0m \u001b[38;5;28;01mreturn\u001b[39;00m np\u001b[38;5;241m.\u001b[39marray(partials)\u001b[38;5;241m.\u001b[39mT\n",
      "File \u001b[0;32m~/Library/Python/3.9/lib/python/site-packages/statsmodels/tsa/statespace/mlemodel.py:989\u001b[0m, in \u001b[0;36mMLEModel.loglikeobs\u001b[0;34m(self, params, transformed, includes_fixed, complex_step, **kwargs)\u001b[0m\n\u001b[1;32m    984\u001b[0m     kwargs[\u001b[38;5;124m'\u001b[39m\u001b[38;5;124minversion_method\u001b[39m\u001b[38;5;124m'\u001b[39m] \u001b[38;5;241m=\u001b[39m INVERT_UNIVARIATE \u001b[38;5;241m|\u001b[39m SOLVE_LU\n\u001b[1;32m    986\u001b[0m \u001b[38;5;28mself\u001b[39m\u001b[38;5;241m.\u001b[39mupdate(params, transformed\u001b[38;5;241m=\u001b[39m\u001b[38;5;28;01mTrue\u001b[39;00m, includes_fixed\u001b[38;5;241m=\u001b[39m\u001b[38;5;28;01mTrue\u001b[39;00m,\n\u001b[1;32m    987\u001b[0m             complex_step\u001b[38;5;241m=\u001b[39mcomplex_step)\n\u001b[0;32m--> 989\u001b[0m \u001b[38;5;28;01mreturn\u001b[39;00m \u001b[38;5;28;43mself\u001b[39;49m\u001b[38;5;241;43m.\u001b[39;49m\u001b[43mssm\u001b[49m\u001b[38;5;241;43m.\u001b[39;49m\u001b[43mloglikeobs\u001b[49m\u001b[43m(\u001b[49m\u001b[43mcomplex_step\u001b[49m\u001b[38;5;241;43m=\u001b[39;49m\u001b[43mcomplex_step\u001b[49m\u001b[43m,\u001b[49m\u001b[43m \u001b[49m\u001b[38;5;241;43m*\u001b[39;49m\u001b[38;5;241;43m*\u001b[39;49m\u001b[43mkwargs\u001b[49m\u001b[43m)\u001b[49m\n",
      "File \u001b[0;32m~/Library/Python/3.9/lib/python/site-packages/statsmodels/tsa/statespace/kalman_filter.py:1068\u001b[0m, in \u001b[0;36mKalmanFilter.loglikeobs\u001b[0;34m(self, **kwargs)\u001b[0m\n\u001b[1;32m   1064\u001b[0m \u001b[38;5;28;01melse\u001b[39;00m:\n\u001b[1;32m   1065\u001b[0m     kwargs\u001b[38;5;241m.\u001b[39msetdefault(\n\u001b[1;32m   1066\u001b[0m         \u001b[38;5;124m'\u001b[39m\u001b[38;5;124mconserve_memory\u001b[39m\u001b[38;5;124m'\u001b[39m,\n\u001b[1;32m   1067\u001b[0m         MEMORY_CONSERVE \u001b[38;5;241m^\u001b[39m (MEMORY_NO_FORECAST \u001b[38;5;241m|\u001b[39m MEMORY_NO_LIKELIHOOD))\n\u001b[0;32m-> 1068\u001b[0m kfilter \u001b[38;5;241m=\u001b[39m \u001b[38;5;28;43mself\u001b[39;49m\u001b[38;5;241;43m.\u001b[39;49m\u001b[43m_filter\u001b[49m\u001b[43m(\u001b[49m\u001b[38;5;241;43m*\u001b[39;49m\u001b[38;5;241;43m*\u001b[39;49m\u001b[43mkwargs\u001b[49m\u001b[43m)\u001b[49m\n\u001b[1;32m   1069\u001b[0m llf_obs \u001b[38;5;241m=\u001b[39m np\u001b[38;5;241m.\u001b[39marray(kfilter\u001b[38;5;241m.\u001b[39mloglikelihood, copy\u001b[38;5;241m=\u001b[39m\u001b[38;5;28;01mTrue\u001b[39;00m)\n\u001b[1;32m   1070\u001b[0m loglikelihood_burn \u001b[38;5;241m=\u001b[39m kwargs\u001b[38;5;241m.\u001b[39mget(\u001b[38;5;124m'\u001b[39m\u001b[38;5;124mloglikelihood_burn\u001b[39m\u001b[38;5;124m'\u001b[39m,\n\u001b[1;32m   1071\u001b[0m                                 \u001b[38;5;28mself\u001b[39m\u001b[38;5;241m.\u001b[39mloglikelihood_burn)\n",
      "File \u001b[0;32m~/Library/Python/3.9/lib/python/site-packages/statsmodels/tsa/statespace/kalman_filter.py:924\u001b[0m, in \u001b[0;36mKalmanFilter._filter\u001b[0;34m(self, filter_method, inversion_method, stability_method, conserve_memory, filter_timing, tolerance, loglikelihood_burn, complex_step)\u001b[0m\n\u001b[1;32m    921\u001b[0m \u001b[38;5;28mself\u001b[39m\u001b[38;5;241m.\u001b[39m_initialize_state(prefix\u001b[38;5;241m=\u001b[39mprefix, complex_step\u001b[38;5;241m=\u001b[39mcomplex_step)\n\u001b[1;32m    923\u001b[0m \u001b[38;5;66;03m# Run the filter\u001b[39;00m\n\u001b[0;32m--> 924\u001b[0m \u001b[43mkfilter\u001b[49m\u001b[43m(\u001b[49m\u001b[43m)\u001b[49m\n\u001b[1;32m    926\u001b[0m \u001b[38;5;28;01mreturn\u001b[39;00m kfilter\n",
      "\u001b[0;31mKeyboardInterrupt\u001b[0m: "
     ]
    }
   ],
   "source": [
    "history = [x for x in data_train[\"y\"]]\n",
    "predictions = list()\n",
    "# walk-forward validation\n",
    "for t in range(len(data_test[\"y\"])):\n",
    "\tmodel = ARIMA(history, order=(5,1,0))\n",
    "\tmodel_fit = model.fit()\n",
    "\toutput = model_fit.forecast()\n",
    "\tyhat = output[0]\n",
    "\tpredictions.append(yhat)\n",
    "\tobs = data_test[\"y\"][t]\n",
    "\thistory.append(obs)\n",
    "\tprint(data_test.index[t])\n",
    "\tprint('predicted=%f, expected=%f' % (yhat, obs))\n",
    "# evaluate forecasts\n",
    "rmse = np.sqrt(mean_squared_error(data_test[\"y\"], predictions))\n",
    "print('Test RMSE: %.3f' % rmse)\n",
    "# plot forecasts against actual outcomes\n",
    "plt.plot(data_test[\"y\"])\n",
    "plt.plot(predictions, color='red')\n",
    "plt.show()"
   ]
  },
  {
   "cell_type": "code",
   "execution_count": null,
   "id": "b748f449",
   "metadata": {},
   "outputs": [
    {
     "name": "stderr",
     "output_type": "stream",
     "text": [
      "16:29:12 - cmdstanpy - INFO - Chain [1] start processing\n",
      "16:29:21 - cmdstanpy - INFO - Chain [1] done processing\n",
      "/Users/hamzamuhammad/Library/Python/3.9/lib/python/site-packages/prophet/forecaster.py:1415: RuntimeWarning: divide by zero encountered in matmul\n",
      "  comp = np.matmul(X, beta_c.transpose())\n",
      "/Users/hamzamuhammad/Library/Python/3.9/lib/python/site-packages/prophet/forecaster.py:1415: RuntimeWarning: overflow encountered in matmul\n",
      "  comp = np.matmul(X, beta_c.transpose())\n",
      "/Users/hamzamuhammad/Library/Python/3.9/lib/python/site-packages/prophet/forecaster.py:1415: RuntimeWarning: invalid value encountered in matmul\n",
      "  comp = np.matmul(X, beta_c.transpose())\n",
      "/Users/hamzamuhammad/Library/Python/3.9/lib/python/site-packages/prophet/forecaster.py:1550: RuntimeWarning: divide by zero encountered in matmul\n",
      "  Xb_a = np.matmul(seasonal_features.values,\n",
      "/Users/hamzamuhammad/Library/Python/3.9/lib/python/site-packages/prophet/forecaster.py:1550: RuntimeWarning: overflow encountered in matmul\n",
      "  Xb_a = np.matmul(seasonal_features.values,\n",
      "/Users/hamzamuhammad/Library/Python/3.9/lib/python/site-packages/prophet/forecaster.py:1550: RuntimeWarning: invalid value encountered in matmul\n",
      "  Xb_a = np.matmul(seasonal_features.values,\n",
      "/Users/hamzamuhammad/Library/Python/3.9/lib/python/site-packages/prophet/forecaster.py:1552: RuntimeWarning: divide by zero encountered in matmul\n",
      "  Xb_m = np.matmul(seasonal_features.values, beta * s_m.values)\n",
      "/Users/hamzamuhammad/Library/Python/3.9/lib/python/site-packages/prophet/forecaster.py:1552: RuntimeWarning: overflow encountered in matmul\n",
      "  Xb_m = np.matmul(seasonal_features.values, beta * s_m.values)\n",
      "/Users/hamzamuhammad/Library/Python/3.9/lib/python/site-packages/prophet/forecaster.py:1552: RuntimeWarning: invalid value encountered in matmul\n",
      "  Xb_m = np.matmul(seasonal_features.values, beta * s_m.values)\n"
     ]
    },
    {
     "name": "stdout",
     "output_type": "stream",
     "text": [
      "                       ds\n",
      "29887 2025-01-01 00:05:42\n",
      "29886 2025-01-01 00:12:35\n",
      "29885 2025-01-01 00:19:23\n",
      "29884 2025-01-01 00:26:12\n",
      "29883 2025-01-01 00:33:01\n",
      "...                   ...\n",
      "4     2025-05-22 11:08:48\n",
      "3     2025-05-22 11:15:23\n",
      "2     2025-05-22 11:21:58\n",
      "1     2025-05-22 11:28:30\n",
      "0     2025-05-22 11:32:44\n",
      "\n",
      "[29888 rows x 1 columns]\n"
     ]
    },
    {
     "data": {
      "application/vnd.microsoft.datawrangler.viewer.v0+json": {
       "columns": [
        {
         "name": "index",
         "rawType": "int64",
         "type": "integer"
        },
        {
         "name": "ds",
         "rawType": "datetime64[ns]",
         "type": "datetime"
        },
        {
         "name": "yhat",
         "rawType": "float64",
         "type": "float"
        },
        {
         "name": "yhat_lower",
         "rawType": "float64",
         "type": "float"
        },
        {
         "name": "yhat_upper",
         "rawType": "float64",
         "type": "float"
        }
       ],
       "conversionMethod": "pd.DataFrame",
       "ref": "d5911724-7376-4e59-8ce2-8460ea4c6fe8",
       "rows": [
        [
         "0",
         "2025-01-01 00:05:42",
         "36618210.62710501",
         "12419076.797139099",
         "61034126.606283106"
        ],
        [
         "1",
         "2025-01-01 00:12:35",
         "36286159.671020605",
         "11665590.299487842",
         "62706736.52674398"
        ],
        [
         "2",
         "2025-01-01 00:19:23",
         "35967208.551191576",
         "12233641.548422255",
         "61140957.894548945"
        ],
        [
         "3",
         "2025-01-01 00:26:12",
         "35657056.07327396",
         "11306459.012283895",
         "59192993.20132594"
        ],
        [
         "4",
         "2025-01-01 00:33:01",
         "35356872.85922003",
         "11421596.758066965",
         "61464854.37826637"
        ],
        [
         "5",
         "2025-01-01 00:39:59",
         "35060625.24018227",
         "9807725.134604607",
         "57996972.014559425"
        ],
        [
         "6",
         "2025-01-01 00:46:54",
         "34777133.2018906",
         "11328414.856033465",
         "59032103.99166455"
        ],
        [
         "7",
         "2025-01-01 00:53:46",
         "34506104.52916226",
         "9987326.790159851",
         "58859546.55288261"
        ],
        [
         "8",
         "2025-01-01 01:00:35",
         "34247109.402876176",
         "11672362.388659036",
         "58768853.44415699"
        ],
        [
         "9",
         "2025-01-01 01:07:25",
         "33997204.1501418",
         "9814437.860671373",
         "57961739.23683973"
        ],
        [
         "10",
         "2025-01-01 01:14:16",
         "33755994.662596524",
         "11668161.23318163",
         "58672745.096249536"
        ],
        [
         "11",
         "2025-01-01 01:21:06",
         "33524072.851856116",
         "10584899.07619794",
         "56988123.70176302"
        ],
        [
         "12",
         "2025-01-01 01:27:58",
         "33299079.789834693",
         "10037233.532655977",
         "59106619.39015341"
        ],
        [
         "13",
         "2025-01-01 01:34:53",
         "33079814.134733662",
         "7955018.0557022365",
         "56747512.95443618"
        ],
        [
         "14",
         "2025-01-01 01:41:42",
         "32870082.424630526",
         "9215794.418715712",
         "57188510.50582426"
        ],
        [
         "15",
         "2025-01-01 01:48:32",
         "32665247.107930124",
         "8550503.837169485",
         "55154120.74624251"
        ],
        [
         "16",
         "2025-01-01 01:55:28",
         "32461942.071291257",
         "7726906.407273672",
         "57160956.83516988"
        ],
        [
         "17",
         "2025-01-01 02:02:26",
         "32261185.52782975",
         "9056911.117164623",
         "56563987.8894718"
        ],
        [
         "18",
         "2025-01-01 02:09:12",
         "32068533.829545736",
         "8187159.66533491",
         "57577171.760754295"
        ],
        [
         "19",
         "2025-01-01 02:16:01",
         "31875754.32967019",
         "8204672.10540903",
         "56232606.10194994"
        ],
        [
         "20",
         "2025-01-01 02:22:47",
         "31684665.912759006",
         "8687623.227594983",
         "55993455.23015589"
        ],
        [
         "21",
         "2025-01-01 02:29:36",
         "31491450.84902552",
         "6695041.098275718",
         "55623116.40726709"
        ],
        [
         "22",
         "2025-01-01 02:36:29",
         "31294643.50938347",
         "6414679.390839219",
         "55254494.221488744"
        ],
        [
         "23",
         "2025-01-01 02:43:20",
         "31096168.924765773",
         "6189922.387730596",
         "55207380.88906144"
        ],
        [
         "24",
         "2025-01-01 02:50:05",
         "30897203.78559526",
         "6956056.9929254",
         "54729453.06120563"
        ],
        [
         "25",
         "2025-01-01 02:56:56",
         "30691088.995604746",
         "6007755.948831257",
         "54842313.59706633"
        ],
        [
         "26",
         "2025-01-01 03:03:42",
         "30482660.012587756",
         "8243336.935327174",
         "55306906.56110496"
        ],
        [
         "27",
         "2025-01-01 03:10:30",
         "30267804.065290943",
         "4534833.265983843",
         "53820446.30528978"
        ],
        [
         "28",
         "2025-01-01 03:17:22",
         "30044870.455789465",
         "5833129.349914856",
         "54272117.42401046"
        ],
        [
         "29",
         "2025-01-01 03:24:08",
         "29818952.381828412",
         "6508061.240343166",
         "57124254.538943976"
        ],
        [
         "30",
         "2025-01-01 03:31:00",
         "29583119.850013312",
         "6048554.838885875",
         "52671413.74032539"
        ],
        [
         "31",
         "2025-01-01 03:37:49",
         "29342318.443439666",
         "6069441.375732216",
         "52973420.169201985"
        ],
        [
         "32",
         "2025-01-01 03:44:41",
         "29092998.574296698",
         "4841213.841651601",
         "52707767.174135946"
        ],
        [
         "33",
         "2025-01-01 03:51:33",
         "28837003.360052135",
         "4534151.707910614",
         "53752471.14880734"
        ],
        [
         "34",
         "2025-01-01 03:58:23",
         "28575839.798968196",
         "6113371.540315839",
         "52509674.83828322"
        ],
        [
         "35",
         "2025-01-01 04:05:15",
         "28307287.97332023",
         "5378022.983617073",
         "51343899.048106305"
        ],
        [
         "36",
         "2025-01-01 04:12:07",
         "28033041.17430953",
         "4511257.629713528",
         "52955905.24277902"
        ],
        [
         "37",
         "2025-01-01 04:18:56",
         "27755684.042656213",
         "4029890.029973855",
         "52949910.41565637"
        ],
        [
         "38",
         "2025-01-01 04:25:44",
         "27474541.966381293",
         "3668930.49759659",
         "52178854.43351278"
        ],
        [
         "39",
         "2025-01-01 04:32:28",
         "27192432.231820837",
         "2946468.0102746165",
         "52774490.74785424"
        ],
        [
         "40",
         "2025-01-01 04:39:16",
         "26904507.877149824",
         "3614769.928723395",
         "53171435.11134625"
        ],
        [
         "41",
         "2025-01-01 04:46:05",
         "26613630.925421573",
         "3280001.3566468093",
         "49796803.54143551"
        ],
        [
         "42",
         "2025-01-01 04:53:09",
         "26310617.079824384",
         "2852626.327652797",
         "50100529.441863425"
        ],
        [
         "43",
         "2025-01-01 04:59:50",
         "26023538.095881872",
         "2433572.1067944216",
         "50923391.67754159"
        ],
        [
         "44",
         "2025-01-01 05:06:40",
         "25730407.537236616",
         "1810179.3450344126",
         "49412400.96964954"
        ],
        [
         "45",
         "2025-01-01 05:13:24",
         "25442830.545981623",
         "1107693.443741743",
         "51918677.17895153"
        ],
        [
         "46",
         "2025-01-01 05:20:09",
         "25156669.35441582",
         "1792428.7529703288",
         "49082231.77013377"
        ],
        [
         "47",
         "2025-01-01 05:26:55",
         "24872790.055715",
         "2094407.0651006715",
         "48262409.12212951"
        ],
        [
         "48",
         "2025-01-01 05:33:45",
         "24589987.245596558",
         "898641.1209517942",
         "46984964.305580795"
        ],
        [
         "49",
         "2025-01-01 05:40:30",
         "24315238.630786445",
         "-30483.802821645713",
         "48794379.45506269"
        ]
       ],
       "shape": {
        "columns": 4,
        "rows": 29888
       }
      },
      "text/html": [
       "<div>\n",
       "<style scoped>\n",
       "    .dataframe tbody tr th:only-of-type {\n",
       "        vertical-align: middle;\n",
       "    }\n",
       "\n",
       "    .dataframe tbody tr th {\n",
       "        vertical-align: top;\n",
       "    }\n",
       "\n",
       "    .dataframe thead th {\n",
       "        text-align: right;\n",
       "    }\n",
       "</style>\n",
       "<table border=\"1\" class=\"dataframe\">\n",
       "  <thead>\n",
       "    <tr style=\"text-align: right;\">\n",
       "      <th></th>\n",
       "      <th>ds</th>\n",
       "      <th>yhat</th>\n",
       "      <th>yhat_lower</th>\n",
       "      <th>yhat_upper</th>\n",
       "    </tr>\n",
       "  </thead>\n",
       "  <tbody>\n",
       "    <tr>\n",
       "      <th>0</th>\n",
       "      <td>2025-01-01 00:05:42</td>\n",
       "      <td>3.661821e+07</td>\n",
       "      <td>1.241908e+07</td>\n",
       "      <td>6.103413e+07</td>\n",
       "    </tr>\n",
       "    <tr>\n",
       "      <th>1</th>\n",
       "      <td>2025-01-01 00:12:35</td>\n",
       "      <td>3.628616e+07</td>\n",
       "      <td>1.166559e+07</td>\n",
       "      <td>6.270674e+07</td>\n",
       "    </tr>\n",
       "    <tr>\n",
       "      <th>2</th>\n",
       "      <td>2025-01-01 00:19:23</td>\n",
       "      <td>3.596721e+07</td>\n",
       "      <td>1.223364e+07</td>\n",
       "      <td>6.114096e+07</td>\n",
       "    </tr>\n",
       "    <tr>\n",
       "      <th>3</th>\n",
       "      <td>2025-01-01 00:26:12</td>\n",
       "      <td>3.565706e+07</td>\n",
       "      <td>1.130646e+07</td>\n",
       "      <td>5.919299e+07</td>\n",
       "    </tr>\n",
       "    <tr>\n",
       "      <th>4</th>\n",
       "      <td>2025-01-01 00:33:01</td>\n",
       "      <td>3.535687e+07</td>\n",
       "      <td>1.142160e+07</td>\n",
       "      <td>6.146485e+07</td>\n",
       "    </tr>\n",
       "    <tr>\n",
       "      <th>...</th>\n",
       "      <td>...</td>\n",
       "      <td>...</td>\n",
       "      <td>...</td>\n",
       "      <td>...</td>\n",
       "    </tr>\n",
       "    <tr>\n",
       "      <th>29883</th>\n",
       "      <td>2025-05-22 11:08:48</td>\n",
       "      <td>-1.353485e+08</td>\n",
       "      <td>-9.678523e+08</td>\n",
       "      <td>6.965770e+08</td>\n",
       "    </tr>\n",
       "    <tr>\n",
       "      <th>29884</th>\n",
       "      <td>2025-05-22 11:15:23</td>\n",
       "      <td>-1.351785e+08</td>\n",
       "      <td>-9.678301e+08</td>\n",
       "      <td>6.995935e+08</td>\n",
       "    </tr>\n",
       "    <tr>\n",
       "      <th>29885</th>\n",
       "      <td>2025-05-22 11:21:58</td>\n",
       "      <td>-1.349872e+08</td>\n",
       "      <td>-9.575888e+08</td>\n",
       "      <td>6.986114e+08</td>\n",
       "    </tr>\n",
       "    <tr>\n",
       "      <th>29886</th>\n",
       "      <td>2025-05-22 11:28:30</td>\n",
       "      <td>-1.347757e+08</td>\n",
       "      <td>-9.628293e+08</td>\n",
       "      <td>7.089170e+08</td>\n",
       "    </tr>\n",
       "    <tr>\n",
       "      <th>29887</th>\n",
       "      <td>2025-05-22 11:32:44</td>\n",
       "      <td>-1.346270e+08</td>\n",
       "      <td>-9.698535e+08</td>\n",
       "      <td>7.009661e+08</td>\n",
       "    </tr>\n",
       "  </tbody>\n",
       "</table>\n",
       "<p>29888 rows × 4 columns</p>\n",
       "</div>"
      ],
      "text/plain": [
       "                       ds          yhat    yhat_lower    yhat_upper\n",
       "0     2025-01-01 00:05:42  3.661821e+07  1.241908e+07  6.103413e+07\n",
       "1     2025-01-01 00:12:35  3.628616e+07  1.166559e+07  6.270674e+07\n",
       "2     2025-01-01 00:19:23  3.596721e+07  1.223364e+07  6.114096e+07\n",
       "3     2025-01-01 00:26:12  3.565706e+07  1.130646e+07  5.919299e+07\n",
       "4     2025-01-01 00:33:01  3.535687e+07  1.142160e+07  6.146485e+07\n",
       "...                   ...           ...           ...           ...\n",
       "29883 2025-05-22 11:08:48 -1.353485e+08 -9.678523e+08  6.965770e+08\n",
       "29884 2025-05-22 11:15:23 -1.351785e+08 -9.678301e+08  6.995935e+08\n",
       "29885 2025-05-22 11:21:58 -1.349872e+08 -9.575888e+08  6.986114e+08\n",
       "29886 2025-05-22 11:28:30 -1.347757e+08 -9.628293e+08  7.089170e+08\n",
       "29887 2025-05-22 11:32:44 -1.346270e+08 -9.698535e+08  7.009661e+08\n",
       "\n",
       "[29888 rows x 4 columns]"
      ]
     },
     "execution_count": 87,
     "metadata": {},
     "output_type": "execute_result"
    }
   ],
   "source": [
    "m = Prophet()\n",
    "\n",
    "m.fit(data_train[[\"y\",\"ds\"]])\n",
    "\n",
    "future = pd.DataFrame(data = {\"ds\":data_test[\"ds\"]})\n",
    "print(future)\n",
    "forecast = m.predict(future)\n",
    "forecast[['ds', 'yhat', 'yhat_lower', 'yhat_upper']]\n"
   ]
  },
  {
   "cell_type": "code",
   "execution_count": null,
   "id": "b37511cb",
   "metadata": {},
   "outputs": [
    {
     "data": {
      "image/png": "[encoded data removed]",
      "text/plain": [
       "<Figure size 640x480 with 1 Axes>"
      ]
     },
     "metadata": {},
     "output_type": "display_data"
    }
   ],
   "source": [
    "\n",
    "#plt.plot(forecast[\"ds\"],forecast[\"yhat\"],label = \"Prediction\")\n",
    "plt.plot(forecast[\"ds\"],data_test[\"y\"],label = \"Actual\")\n",
    "plt.title('Returns Comparison')\n",
    "plt.xlabel('Date')\n",
    "plt.ylabel('Price')\n",
    "plt.grid(True)\n",
    "plt.legend()\n",
    "plt.tight_layout()\n",
    "plt.show()\n",
    "\n"
   ]
  }
 ],
 "metadata": {
  "kernelspec": {
   "display_name": "Python 3",
   "language": "python",
   "name": "python3"
  },
  "language_info": {
   "codemirror_mode": {
    "name": "ipython",
    "version": 3
   },
   "file_extension": ".py",
   "mimetype": "text/x-python",
   "name": "python",
   "nbconvert_exporter": "python",
   "pygments_lexer": "ipython3",
   "version": "3.9.6"
  }
 },
 "nbformat": 4,
 "nbformat_minor": 5
}
